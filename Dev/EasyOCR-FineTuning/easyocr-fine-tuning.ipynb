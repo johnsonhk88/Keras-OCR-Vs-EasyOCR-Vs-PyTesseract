{
 "cells": [
  {
   "cell_type": "markdown",
   "metadata": {
    "vscode": {
     "languageId": "plaintext"
    }
   },
   "source": [
    "## References EasyOCR Fine Tuning Tutorial\n",
    "https://www.freecodecamp.org/news/how-to-fine-tune-easyocr-with-a-synthetic-dataset/"
   ]
  },
  {
   "cell_type": "markdown",
   "metadata": {},
   "source": []
  }
 ],
 "metadata": {
  "language_info": {
   "name": "python"
  }
 },
 "nbformat": 4,
 "nbformat_minor": 2
}
